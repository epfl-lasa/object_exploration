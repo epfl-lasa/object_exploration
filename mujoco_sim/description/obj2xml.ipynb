{
 "cells": [
  {
   "cell_type": "code",
   "execution_count": 1,
   "metadata": {
    "collapsed": true,
    "pycharm": {
     "name": "#%%\n"
    }
   },
   "outputs": [],
   "source": [
    "import numpy as np\n",
    "import pymesh as pm"
   ]
  },
  {
   "cell_type": "code",
   "execution_count": 2,
   "outputs": [],
   "source": [
    "path = 'objs/'\n",
    "name = 'apc_red_bowlx2'\n",
    "# name = 'bunnyx2'\n",
    "name = 'apc_1x2.5'\n",
    "name = 'apc_redcupx2'\n",
    "name = 'apc_2x2'\n",
    "model = path + name  + '_decomp256.obj'\n",
    "mesh = pm.meshio.load_mesh(model)"
   ],
   "metadata": {
    "collapsed": false,
    "pycharm": {
     "name": "#%%\n"
    }
   }
  },
  {
   "cell_type": "code",
   "execution_count": 3,
   "outputs": [],
   "source": [
    "# box = pm.generate_box_mesh()\n",
    "\n",
    "# save a stl file.\n",
    "# pm.meshio.save_mesh('tmp.stl', mesh)\n"
   ],
   "metadata": {
    "collapsed": false,
    "pycharm": {
     "name": "#%%\n"
    }
   }
  },
  {
   "cell_type": "code",
   "execution_count": 4,
   "outputs": [],
   "source": [
    "data_str = np.loadtxt(model, dtype=str)\n",
    "data = np.array(data_str[:,1:], dtype=float)\n",
    "bool_vf = np.char.find(data_str[:,0], 'v')\n",
    "clip_num = [0]\n",
    "rows = data.shape[0]\n",
    "for i in range(rows-1):\n",
    "    if data_str[i,0] != data_str[i+1,0]:\n",
    "        clip_num.append(i+1)\n",
    "\n",
    "clip_num.append(rows)"
   ],
   "metadata": {
    "collapsed": false,
    "pycharm": {
     "name": "#%%\n"
    }
   }
  },
  {
   "cell_type": "code",
   "execution_count": 5,
   "outputs": [],
   "source": [
    "file_nums = int((len(clip_num) -1) /2)\n",
    "import os\n",
    "os.makedirs(path+ name + '/', exist_ok=True)"
   ],
   "metadata": {
    "collapsed": false,
    "pycharm": {
     "name": "#%%\n"
    }
   }
  },
  {
   "cell_type": "code",
   "execution_count": 6,
   "outputs": [],
   "source": [
    "nums = len(clip_num)\n",
    "\n",
    "\n",
    "for i in range(file_nums):\n",
    "    v = data[clip_num[i*2] : clip_num[i*2+1],:]\n",
    "    f = data[clip_num[i*2+1] : clip_num[i*2+2],:]\n",
    "    f = np.array(f - np.min(f) +1, dtype=int)\n",
    "    mesh_i = pm.form_mesh(v, f)\n",
    "    # pm.meshio.save_mesh(path+ name +'_'+ str(i) + '.stl', mesh_i) # don't know why this doesn't work.\n",
    "    vf_str = data_str[clip_num[i*2]:clip_num[i*2+2],0 ]\n",
    "    vf = np.concatenate([v,f])\n",
    "    np.savetxt(path+ name + '/' + name +'_'+ str(i) + '.obj', np.concatenate([vf_str.reshape(-1,1), vf], axis=1), fmt=\"%s\")\n",
    "\n"
   ],
   "metadata": {
    "collapsed": false,
    "pycharm": {
     "name": "#%%\n"
    }
   }
  },
  {
   "cell_type": "code",
   "execution_count": 7,
   "outputs": [],
   "source": [
    "for i in range(file_nums):\n",
    "    mesh_i = pm.meshio.load_mesh(path+ name + '/' + name +'_'+ str(i) + '.obj')\n",
    "    pm.meshio.save_mesh(path+ name + '/' + name +'_'+ str(i) + '.stl', mesh_i)"
   ],
   "metadata": {
    "collapsed": false,
    "pycharm": {
     "name": "#%%\n"
    }
   }
  },
  {
   "cell_type": "code",
   "execution_count": 8,
   "outputs": [],
   "source": [
    "# delete all .obj files\n",
    "files = os.listdir( path+ name + '/' )\n",
    "for file in files:\n",
    "    if file.endswith(\".obj\"):\n",
    "        os.remove( os.path.join(  path+ name + '/', file ) )\n"
   ],
   "metadata": {
    "collapsed": false,
    "pycharm": {
     "name": "#%%\n"
    }
   }
  },
  {
   "cell_type": "code",
   "execution_count": 9,
   "outputs": [],
   "source": [
    "# # start to generate .xml file for Mujoco.\n",
    "# import xml.etree.cElementTree as ET\n",
    "#\n",
    "# root = ET.Element(\"name\")\n",
    "# doc = ET.SubElement(root, \"asset\")\n",
    "# for i in range(file_nums):\n",
    "#     ET.SubElement(doc, \"mesh\", name= name +'_'+ str(i), name = )\n",
    "#\n",
    "#\n",
    "#\n"
   ],
   "metadata": {
    "collapsed": false,
    "pycharm": {
     "name": "#%%\n"
    }
   }
  },
  {
   "cell_type": "code",
   "execution_count": 10,
   "outputs": [
    {
     "data": {
      "text/plain": "'objs/apc_2x2'"
     },
     "execution_count": 10,
     "metadata": {},
     "output_type": "execute_result"
    }
   ],
   "source": [
    "path + name"
   ],
   "metadata": {
    "collapsed": false,
    "pycharm": {
     "name": "#%%\n"
    }
   }
  },
  {
   "cell_type": "markdown",
   "source": [],
   "metadata": {
    "collapsed": false,
    "pycharm": {
     "name": "#%% md\n"
    }
   }
  },
  {
   "cell_type": "code",
   "execution_count": 11,
   "outputs": [],
   "source": [
    "with open(path + name + '_preloads' + \".xml\", \"w\") as f:\n",
    "    start = '<'+ name + '>\\n    <asset>\\n'\n",
    "    f.write(start)\n",
    "    for i in range(file_nums):\n",
    "        line = '        <mesh name=' + \"\\\"\" + name + '_'+ str(i)  + \"\\\"\" + ' file=' + \"\\\"\" +'objs/'+  name + '/' + name +'_'+ str(i) + '.stl'   + \"\\\"\" + ' /> \\n'\n",
    "        # print(line)\n",
    "        f.write(line)\n",
    "    end_str = '    </asset>\\n</'+ name + '>'\n",
    "    f.write(end_str)"
   ],
   "metadata": {
    "collapsed": false,
    "pycharm": {
     "name": "#%%\n"
    }
   }
  },
  {
   "cell_type": "code",
   "execution_count": 13,
   "outputs": [],
   "source": [
    "if name[-2]=='x':\n",
    "    # name_str = name[:-2]\n",
    "    name_str = name\n",
    "    # pass\n",
    "else:\n",
    "    name_str = name\n",
    "\n",
    "geom = \"\\\" class=\\\"obj_pieces\\\" pos=\\\"0 0 0\\\" quat=\\\"1 0 0 0\\\" type=\\\"mesh\\\" mesh=\"\n",
    "with open(path + name + '_bodies' \".xml\", \"w\") as f:\n",
    "    start = '<'+ name + '>\\n'\n",
    "    f.write(start)\n",
    "    for i in range(file_nums):\n",
    "        # <geom pos=\"0.0425 -0.0425 0\" quat=\"-0.707107 0 0.707107 0\" type=\"mesh\"  group=\"1\" rgba=\"0.2 0.2 0.2 1\" mesh=\"allegro_mount\" />\n",
    "        line = \"    <geom name=\\\"\" + name_str + '_'+ str(i)    + geom + '\\\"' +  name + '_'+ str(i)   + '\\\"/>\\n'\n",
    "        f.write(line)\n",
    "    end_str = '</'+ name + '>'\n",
    "    f.write(end_str)"
   ],
   "metadata": {
    "collapsed": false,
    "pycharm": {
     "name": "#%%\n"
    }
   }
  },
  {
   "cell_type": "code",
   "execution_count": 116,
   "outputs": [],
   "source": [],
   "metadata": {
    "collapsed": false,
    "pycharm": {
     "name": "#%%\n"
    }
   }
  }
 ],
 "metadata": {
  "kernelspec": {
   "display_name": "Python 3",
   "language": "python",
   "name": "python3"
  },
  "language_info": {
   "codemirror_mode": {
    "name": "ipython",
    "version": 2
   },
   "file_extension": ".py",
   "mimetype": "text/x-python",
   "name": "python",
   "nbconvert_exporter": "python",
   "pygments_lexer": "ipython2",
   "version": "2.7.6"
  }
 },
 "nbformat": 4,
 "nbformat_minor": 0
}