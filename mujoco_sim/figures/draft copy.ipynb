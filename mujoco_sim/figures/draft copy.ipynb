{
 "cells": [
  {
   "cell_type": "code",
   "execution_count": null,
   "metadata": {},
   "outputs": [
    {
     "ename": "",
     "evalue": "",
     "output_type": "error",
     "traceback": [
      "\u001b[1;31mRunning cells with 'Python 3.7.12 ('mujoco')' requires ipykernel package.\n",
      "Run the following command to install 'ipykernel' into the Python environment. \n",
      "Command: 'conda install -n mujoco ipykernel --update-deps --force-reinstall'"
     ]
    }
   ],
   "source": [
    "import numpy as np\n",
    "import os"
   ]
  },
  {
   "cell_type": "code",
   "execution_count": null,
   "metadata": {},
   "outputs": [],
   "source": [
    "a = 1"
   ]
  },
  {
   "cell_type": "code",
   "execution_count": null,
   "metadata": {},
   "outputs": [],
   "source": [
    "path = '/media/xiao/gaoxiao/GP-based exploration/'\n",
    "name = ['apc_2x2', 'bunny', 'finger_tip']\n",
    "data = [np.load(path + i + '_GP_0.npy' ) for i in name]\n",
    "data.shape"
   ]
  },
  {
   "cell_type": "code",
   "execution_count": null,
   "metadata": {},
   "outputs": [],
   "source": [
    "[193]"
   ]
  },
  {
   "cell_type": "code",
   "execution_count": null,
   "metadata": {},
   "outputs": [],
   "source": [
    "objectNames = ['finger_tip', 'apc_red_bowl', 'apc_2x2', 'bunny']\n",
    "i_list = {}\n",
    "i_list[objectNames[0]]  =  list(range(185, 194+1))  # best 193\n",
    "i_list[objectNames[0]]  =  [193]  # best 193\n",
    "\n",
    "i_list[objectNames[1]]  =  list(range(500, 509+1))\n",
    "i_list[objectNames[2]]  =  list(range(600, 609+1))  # best 601\n",
    "i_list[objectNames[2]]  =  [601]  # best 601\n",
    "\n",
    "i_list[objectNames[3]]  =  list(range(131, 138+1)) + [822, 823]  # 822\n",
    "i_list[objectNames[3]] = [822]\n",
    "\n",
    "batch_all = ['GP','random']\n",
    "batch_all = ['GP']\n",
    "\n",
    "random_list = {}\n",
    "random_list[objectNames[0]]  =  list(range(185, 194+1))\n",
    "random_list[objectNames[1]]  =  list(range(500, 509+1))\n",
    "random_list[objectNames[2]]  =  list(range(710, 719+1))\n",
    "random_list[objectNames[3]]  =  list(range(150, 159+1))\n",
    "\n",
    "for obj in objectNames:\n",
    "    for batch in batch_all:\n",
    "        if batch =='GP':\n",
    "            trials = i_list[obj]\n",
    "        else:\n",
    "            trials = random_list[obj]\n",
    "        for i, trial in enumerate(trials):\n",
    "            save_path = '../records/'+ obj + '_' + batch + '_' + str(i)\n",
    "            if os.path.isfile(save_path + '.npy'):\n",
    "                continue\n",
    "            path = '../records/' + obj + '_' + str(trial) + '.npy'\n",
    "            tmp = np.load(path)\n",
    "            if tmp.shape[1] == 156:  # old data without step info\n",
    "                # pass\n",
    "                n = tmp.shape[0]/201\n",
    "                n = int(n)\n",
    "                steps = np.repeat(np.arange(1,202), n)\n",
    "                step_add = np.ones(tmp.shape[0] - steps.shape[0]) * 201\n",
    "                steps = np.concatenate([steps, step_add]).reshape(-1,1)\n",
    "                tmp = np.concatenate([tmp[:,0:1], steps, tmp[:,1:]], axis=1)\n",
    "            np.save(save_path, tmp)\n"
   ]
  },
  {
   "cell_type": "code",
   "execution_count": null,
   "metadata": {},
   "outputs": [],
   "source": [
    "trials"
   ]
  },
  {
   "cell_type": "code",
   "execution_count": null,
   "metadata": {},
   "outputs": [],
   "source": []
  }
 ],
 "metadata": {
  "interpreter": {
   "hash": "0be4c49dc0b3c4ec0e346165273f694f8647785809d93c72c1c4b1eba05a64aa"
  },
  "kernelspec": {
   "display_name": "Python 3.7.11 ('mujoco')",
   "language": "python",
   "name": "python3"
  },
  "language_info": {
   "codemirror_mode": {
    "name": "ipython",
    "version": 3
   },
   "file_extension": ".py",
   "mimetype": "text/x-python",
   "name": "python",
   "nbconvert_exporter": "python",
   "pygments_lexer": "ipython3",
   "version": "3.7.12"
  },
  "orig_nbformat": 4
 },
 "nbformat": 4,
 "nbformat_minor": 2
}
