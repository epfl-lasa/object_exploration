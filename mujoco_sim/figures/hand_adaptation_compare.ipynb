{
 "cells": [
  {
   "cell_type": "code",
   "execution_count": 1,
   "metadata": {},
   "outputs": [],
   "source": [
    "import numpy as np\n",
    "import time\n",
    "import matplotlib.pyplot as plt\n",
    "import sys\n",
    "sys.path.append(\"../\") \n",
    "# import include.allegro_hand as allegro\n",
    "import matplotlib\n",
    "# matplotlib.use('Agg')\n",
    "import matplotlib.ticker as mtick\n",
    "\n",
    "%load_ext autoreload\n",
    "%autoreload 2"
   ]
  },
  {
   "cell_type": "code",
   "execution_count": 2,
   "metadata": {},
   "outputs": [
    {
     "data": {
      "image/png": "[encoded data removed]",
      "text/plain": [
       "<Figure size 640x480 with 1 Axes>"
      ]
     },
     "metadata": {},
     "output_type": "display_data"
    }
   ],
   "source": [
    "import matplotlib.pyplot as plt\n",
    "plt.plot([1,2,3], [1,2,3])\n",
    "plt.show()"
   ]
  },
  {
   "cell_type": "markdown",
   "metadata": {},
   "source": [
    "### Metrics 1: palm penetration穿模次数\n",
    "\n",
    "\n",
    "### metrics 2: finger penetration穿模次数穿模次数\n",
    "\n",
    "\n",
    "### Metrics 3: fingertip lose contact 失去接触次数\n",
    "\n",
    "\n",
    "### Metrics 4, finger manipulability index\n",
    "$\\omega = \\sqrt{\\det{JJ^T}}$\n",
    " larger manipulability index value corresponds to a configuration further away from the singularity\n",
    "\n"
   ]
  },
  {
   "cell_type": "code",
   "execution_count": 4,
   "metadata": {},
   "outputs": [],
   "source": [
    "objectNames = ['finger_tip', 'apc_red_bowl', 'apc_2x2', 'bunny']\n",
    "batchExperiments_all = ['00', '01', '10', '11']\n",
    "# batchExperiments_all = ['01']\n",
    "\n",
    "\n",
    "# hand = allegro.Robot(use_fingers=[1, 1, 1, 1], path_prefix='../', all_link_fk=False,  right_hand=False, tip_link=['link_15_tip', 'link_3_tip', 'link_7_tip', 'link_11_tip'])\n",
    "\n",
    "# def get_manipulability_index(q: np.ndarray):\n",
    "#     if len(q.shape) ==1:\n",
    "#         q = q.reshape(1,-1)\n",
    "#     w_all = []\n",
    "#     for i in range(q.shape[0]):\n",
    "#         _, jacs = hand.forward_kine(q[i, :])\n",
    "#         w = []\n",
    "#         for jac in jacs:\n",
    "#             jac = jac[:3,:]\n",
    "#             w_i = np.sqrt(np.linalg.det(jac @ jac.T))\n",
    "#             w.append(w_i)\n",
    "#         w_all.append(np.array(w))\n",
    "    \n",
    "#     return np.min(np.vstack(w_all), axis=0)\n",
    "\n"
   ]
  },
  {
   "cell_type": "code",
   "execution_count": 5,
   "metadata": {},
   "outputs": [
    {
     "data": {
      "text/plain": [
       "['finger_tip', 'apc_red_bowl', 'apc_2x2', 'bunny']"
      ]
     },
     "execution_count": 5,
     "metadata": {},
     "output_type": "execute_result"
    }
   ],
   "source": [
    "objectNames"
   ]
  },
  {
   "cell_type": "code",
   "execution_count": 6,
   "metadata": {},
   "outputs": [],
   "source": [
    "i_list = {}\n",
    "# i_list[objectNames[0]]  =  list(range(185, 194+1))\n",
    "i_list[objectNames[0]]  =  list(range(21100, 21109 + 1 ))\n",
    "i_list[objectNames[1]]  =  list(range(21100, 21109+1))\n",
    "i_list[objectNames[2]]  =  list(range(600, 609+1))\n",
    "i_list[objectNames[3]]  =  list(range(131, 138+1)) + [822, 823]\n"
   ]
  },
  {
   "cell_type": "code",
   "execution_count": null,
   "metadata": {},
   "outputs": [],
   "source": [
    "import gc\n",
    "fig_width = 85/25.4 *2  # mm to inch\n",
    "# batchExperiments_all = ['00']\n",
    "\n",
    "for obj in objectNames:\n",
    "    for batch in batchExperiments_all:\n",
    "        \n",
    "        if batch =='11':\n",
    "            trials = i_list[obj]\n",
    "        else:\n",
    "            trials = list(range(0,10))\n",
    "            import matplotlib.ticker as mtick\n",
    "        for i in trials:\n",
    "            print(obj, batch, i)\n",
    "            if batch =='11':\n",
    "                suffix = i\n",
    "            else:\n",
    "                suffix = int('2' + batch + '00') + i\n",
    "            path = '../records/' + obj + '_' + str(suffix) + '.npy'\n",
    "            tmp = np.load(path)\n",
    "            fig, ax = plt.subplots(ncols=1, figsize=(fig_width *4, fig_width *4 *4/5),clear=True)\n",
    "            for j in range(2,5):\n",
    "                # ax.plot(tmp[200:,i] - tmp[199:-1,i])\n",
    "                ax.plot(tmp[::100,j])\n",
    "            name = obj+ ' - ' + batch + ': ' + str(i)\n",
    "            ax.set_title(name)            \n",
    "    # ax[1].legend()\n",
    "\n",
    "            fig.savefig( name +'.jpg',format='jpg',dpi=300,bbox_inches='tight',  pad_inches=0.0)\n",
    "            # fig.clear()\n",
    "            # plt.close(fig)\n",
    "            plt.cla()\n",
    "            plt.close()\n",
    "            # del tmp\n",
    "            # del fig\n",
    "            # del ax\n",
    "            # Clear the current axes.\n",
    "            plt.cla() \n",
    "            # Clear the current figure.\n",
    "            plt.clf() \n",
    "            # Closes all the figure windows.\n",
    "            plt.close('all')   \n",
    "            plt.close(fig)\n",
    "            gc.collect()"
   ]
  },
  {
   "cell_type": "code",
   "execution_count": null,
   "metadata": {},
   "outputs": [],
   "source": [
    "a = np.array([[1,2], [3,4.]])\n",
    "np.sum(a**2, axis=1)"
   ]
  },
  {
   "cell_type": "code",
   "execution_count": 40,
   "metadata": {},
   "outputs": [
    {
     "data": {
      "text/plain": [
       "False"
      ]
     },
     "execution_count": 40,
     "metadata": {},
     "output_type": "execute_result"
    }
   ],
   "source": [
    "'11' =='10'"
   ]
  },
  {
   "cell_type": "code",
   "execution_count": 7,
   "metadata": {},
   "outputs": [
    {
     "name": "stdout",
     "output_type": "stream",
     "text": [
      "finger_tip 00 0\n",
      "finger_tip 00 1\n",
      "finger_tip 00 2\n",
      "finger_tip 00 3\n",
      "finger_tip 00 4\n",
      "finger_tip 00 5\n",
      "finger_tip 00 6\n",
      "finger_tip 00 7\n",
      "finger_tip 00 8\n",
      "finger_tip 00 9\n",
      "finger_tip 01 0\n",
      "finger_tip 01 1\n",
      "finger_tip 01 2\n",
      "finger_tip 01 3\n",
      "finger_tip 01 4\n",
      "finger_tip 01 5\n",
      "finger_tip 01 6\n",
      "finger_tip 01 7\n",
      "finger_tip 01 8\n",
      "finger_tip 01 9\n",
      "finger_tip 10 0\n",
      "finger_tip 10 1\n",
      "finger_tip 10 2\n",
      "finger_tip 10 3\n",
      "finger_tip 10 4\n",
      "finger_tip 10 5\n",
      "finger_tip 10 6\n",
      "finger_tip 10 7\n",
      "finger_tip 10 8\n",
      "finger_tip 10 9\n",
      "finger_tip 11 0\n",
      "finger_tip 11 1\n",
      "finger_tip 11 2\n",
      "finger_tip 11 3\n",
      "finger_tip 11 4\n",
      "finger_tip 11 5\n",
      "finger_tip 11 6\n",
      "finger_tip 11 7\n",
      "finger_tip 11 8\n",
      "finger_tip 11 9\n",
      "apc_red_bowl 00 11\n",
      "apc_red_bowl 00 12\n",
      "apc_red_bowl 00 13\n",
      "apc_red_bowl 00 14\n",
      "apc_red_bowl 00 15\n",
      "apc_red_bowl 00 16\n",
      "apc_red_bowl 00 17\n",
      "apc_red_bowl 00 18\n",
      "apc_red_bowl 00 19\n",
      "apc_red_bowl 00 20\n",
      "apc_red_bowl 01 10\n",
      "apc_red_bowl 01 11\n",
      "apc_red_bowl 01 12\n",
      "apc_red_bowl 01 13\n",
      "apc_red_bowl 01 14\n",
      "apc_red_bowl 01 15\n",
      "apc_red_bowl 01 16\n",
      "apc_red_bowl 01 17\n",
      "apc_red_bowl 01 18\n",
      "apc_red_bowl 01 19\n",
      "apc_red_bowl 10 0\n",
      "apc_red_bowl 10 1\n",
      "apc_red_bowl 10 2\n",
      "apc_red_bowl 10 3\n",
      "apc_red_bowl 10 4\n",
      "apc_red_bowl 10 5\n",
      "apc_red_bowl 10 6\n",
      "apc_red_bowl 10 7\n",
      "apc_red_bowl 10 8\n",
      "apc_red_bowl 10 9\n",
      "apc_red_bowl 11 0\n",
      "apc_red_bowl 11 1\n",
      "apc_red_bowl 11 2\n",
      "apc_red_bowl 11 3\n",
      "apc_red_bowl 11 4\n",
      "apc_red_bowl 11 5\n",
      "apc_red_bowl 11 6\n",
      "apc_red_bowl 11 7\n",
      "apc_red_bowl 11 8\n",
      "apc_red_bowl 11 9\n",
      "apc_2x2 00 0\n",
      "apc_2x2 00 1\n",
      "apc_2x2 00 2\n",
      "apc_2x2 00 3\n",
      "apc_2x2 00 4\n",
      "apc_2x2 00 5\n",
      "apc_2x2 00 6\n",
      "apc_2x2 00 7\n",
      "apc_2x2 00 8\n",
      "apc_2x2 00 9\n",
      "apc_2x2 01 0\n",
      "apc_2x2 01 1\n",
      "apc_2x2 01 2\n",
      "apc_2x2 01 3\n",
      "apc_2x2 01 4\n",
      "apc_2x2 01 5\n",
      "apc_2x2 01 6\n",
      "apc_2x2 01 7\n",
      "apc_2x2 01 8\n",
      "apc_2x2 01 9\n",
      "apc_2x2 10 0\n",
      "apc_2x2 10 1\n",
      "apc_2x2 10 2\n",
      "apc_2x2 10 3\n",
      "apc_2x2 10 4\n",
      "apc_2x2 10 5\n",
      "apc_2x2 10 6\n",
      "apc_2x2 10 7\n",
      "apc_2x2 10 8\n",
      "apc_2x2 10 9\n",
      "apc_2x2 11 0\n",
      "apc_2x2 11 1\n",
      "apc_2x2 11 2\n",
      "apc_2x2 11 3\n",
      "apc_2x2 11 4\n",
      "apc_2x2 11 5\n",
      "apc_2x2 11 6\n",
      "apc_2x2 11 7\n",
      "apc_2x2 11 8\n",
      "apc_2x2 11 9\n",
      "bunny 00 0\n",
      "bunny 00 1\n",
      "bunny 00 2\n",
      "bunny 00 3\n",
      "bunny 00 4\n",
      "bunny 00 5\n",
      "bunny 00 6\n",
      "bunny 00 7\n",
      "bunny 00 8\n",
      "bunny 00 9\n",
      "bunny 01 0\n",
      "bunny 01 1\n",
      "bunny 01 2\n",
      "bunny 01 3\n",
      "bunny 01 4\n",
      "bunny 01 5\n",
      "bunny 01 6\n",
      "bunny 01 7\n",
      "bunny 01 8\n",
      "bunny 01 9\n",
      "bunny 10 0\n",
      "bunny 10 1\n",
      "bunny 10 2\n",
      "bunny 10 3\n",
      "bunny 10 4\n",
      "bunny 10 5\n",
      "bunny 10 8\n",
      "bunny 10 9\n",
      "bunny 10 10\n",
      "bunny 10 11\n",
      "bunny 11 0\n",
      "bunny 11 1\n",
      "bunny 11 2\n",
      "bunny 11 3\n",
      "bunny 11 4\n",
      "bunny 11 5\n",
      "bunny 11 6\n",
      "bunny 11 7\n",
      "bunny 11 8\n",
      "bunny 11 9\n"
     ]
    }
   ],
   "source": [
    "# Load data\n",
    "results = {}\n",
    "result_metrics = {}\n",
    "penetration_threshold = 5 # 2N for detection of penetration\n",
    "rate_threshold= 0.2\n",
    "for obj in objectNames:\n",
    "    for batch in batchExperiments_all:\n",
    "        \n",
    "        \n",
    "        # data = []\n",
    "\n",
    "        metrics_10 = []\n",
    "        trials = list(range(0,10))\n",
    "        if batch =='11':\n",
    "            # trials = i_list[obj]\n",
    "            pass\n",
    "        else: \n",
    "            if batch=='10' and obj=='bunny':\n",
    "                trials=[0,1,2,3,4,5,8,9,10,11] # 6 stuck, 7 and 8 are the same \n",
    "            if obj=='apc_red_bowl' and batch == '00':\n",
    "                trials=list(range(11,21))\n",
    "            if obj=='apc_red_bowl' and batch == '01':\n",
    "                trials=list(range(10,20))\n",
    "            \n",
    "        for i in trials:\n",
    "            print(obj, batch, i)\n",
    "            # if batch =='11':\n",
    "            #     # random_list[objectNames[0]]  =  list(range(185, 194+1))\n",
    "\n",
    "            #     suffix = i\n",
    "            # else:\n",
    "                \n",
    "            suffix = int('2' + batch + '00') + i\n",
    "            path = '../records/' + obj + '_' + str(suffix) + '.npy'\n",
    "            tmp = np.load(path)\n",
    "            # order of meshes 'thumb_tip', 'index_tip', 'middle_tip', 'ring_tip', \"allegro_mount\", \"base_link_left\", 'link_' 1 to 16\n",
    "            # time_now, step palm_pose, joints, contacts between meshes and the obj.\n",
    "            # 1,         1,      7,        16,      6x22  (3+3, 22) (pos, force)* 22 meshes\n",
    "            # 0         1,      2,         9,   ,   25, \n",
    "            # data.append(tmp)\n",
    "            # compute the 4 metrics\n",
    "            steps = np.int32(tmp[:,1])\n",
    "            metrics = [0,0,0]\n",
    "            if tmp.shape[1] == 156:  # old data without step info\n",
    "                pass\n",
    "                n = tmp.shape[0]/201\n",
    "                n = int(n)\n",
    "                steps = np.repeat(np.arange(1,202), n)\n",
    "                step_add = np.ones(tmp.shape[0] - steps.shape[0]) * 201\n",
    "                steps = np.concatenate([steps, step_add]).reshape(-1,1)\n",
    "                tmp = np.concatenate([tmp[:,0:1], steps, tmp[:,1:]], axis=1)\n",
    "                steps = np.int32(steps.flatten())\n",
    "                \n",
    "\n",
    "            for j in range(np.min(steps)+1, np.max(steps) + 1):  # for each step\n",
    "                tmp_j = tmp[steps==j,:]\n",
    "                F = [np.sqrt(np.sum(tmp_j[:, 28 + 6*k:31 + 6*k]**2, axis=1)) for k in [0,1,2,3,5]]# thumb_tip\n",
    "                q = tmp_j[:, 9:25]\n",
    "                # F = tmp_j[:,28+6:31+6] # 'index_tip'\n",
    "                # F = tmp_j[:,28+6*2:31+6*2] # 'middle_tip'\n",
    "                # F = tmp_j[:,28+6*3:31+6*3] # 'ring_tip'\n",
    "                # F = tmp_j[:,28+6*5:31+6*5] # 'base_link_left'\n",
    "\n",
    "                # if np.sum(F[-1] > penetration_threshold) > rate_threshold* tmp_j.shape[0]: # palm penetration, if big contact force occurs\n",
    "                #     metrics[0] += 1\n",
    "                metrics[0] += np.sum(F[-1] > penetration_threshold) / tmp_j.shape[0]\n",
    "                # if np.sum(F[-1] > penetration_threshold) > rate_threshold* tmp_j.shape[0]: # palm penetration, if big contact force occurs\n",
    "                #     metrics[0] += 1\n",
    "                \n",
    "                finger_tip_pen = [np.sum(F[k] > penetration_threshold)/tmp_j.shape[0] for k in [0,1,2,3]] # thumb_tip, index_tip, middle_tip, ring_tip\n",
    "                metrics[1] += sum(finger_tip_pen)/4\n",
    "\n",
    "\n",
    "                # if np.any([np.sum(F[k] > penetration_threshold) > rate_threshold* tmp_j.shape[0] for k in [0,1,2,3]]) : # fingertips penetration, if big contact force occurs once\n",
    "                #     metrics[1] += 1\n",
    "                \n",
    "                lose_contact = [np.sum(F[k] == 0) == F[k].shape[0] for k in [0,1,2,3]]\n",
    "                if np.any(lose_contact) : # fingertips lose contact, if zero force for this step all the time\n",
    "                    metrics[2] += np.sum(lose_contact)/4\n",
    "                \n",
    "                # manipula_index  = get_manipulability_index(q)\n",
    "                # metrics[3].append(manipula_index)\n",
    "            \n",
    "            metrics_10.append(metrics)\n",
    "            \n",
    "            \n",
    "        # results[obj+batch] = data\n",
    "        result_metrics[obj+batch] = metrics_10\n"
   ]
  },
  {
   "cell_type": "code",
   "execution_count": null,
   "metadata": {},
   "outputs": [],
   "source": [
    "# check the histogram to determine the threshold of contact force\n",
    "path = '../records/' + 'apc_2x2' + '_' + str(21005) + '.npy'\n",
    "tmp = np.load(path)\n",
    "steps = np.int32(tmp[:,1])\n",
    "\n",
    "F_all = []\n",
    "for j in range(np.min(steps), np.max(steps) + 1):  # for each step\n",
    "    tmp_j = tmp[steps==j,:]\n",
    "    F = [np.sqrt(np.sum(tmp_j[:, 28 + 6*k:31 + 6*k]**2, axis=1)) for k in [0,1,2,3,5]]# thumb_tip\n",
    "    F_all.append(F[3])\n",
    "F_all = np.hstack(F_all)\n",
    "F_all = F_all[F_all>0]\n",
    "_ = plt.hist(F_all, bins=np.linspace(np.min(F_all), np.max(F_all), 100))\n",
    "print('mean',np.mean(F_all), ' std', np.std(F_all))\n",
    "print(np.mean(F_all) + 3* np.std(F_all))"
   ]
  },
  {
   "cell_type": "code",
   "execution_count": null,
   "metadata": {},
   "outputs": [],
   "source": []
  },
  {
   "cell_type": "code",
   "execution_count": null,
   "metadata": {},
   "outputs": [],
   "source": [
    "tmp = result_metrics[objectNames[0] + '11'][7]\n",
    "# len(tmp)\n",
    "# np.vstack(tmp[3])"
   ]
  },
  {
   "cell_type": "code",
   "execution_count": null,
   "metadata": {},
   "outputs": [],
   "source": [
    "len(result_metrics[obj + batch])"
   ]
  },
  {
   "cell_type": "code",
   "execution_count": 8,
   "metadata": {},
   "outputs": [],
   "source": [
    "metric = {}\n",
    "metric_data = {}\n",
    "# manipu = {}\n",
    "for obj in objectNames:\n",
    "    # metric = [{}, {}, {}]\n",
    "    # manipu = [{}] *4\n",
    "    for j in range(0,3):\n",
    "        for batch in batchExperiments_all:\n",
    "            tmp= [] \n",
    "            for i in range(len(result_metrics[obj + batch])): # trials\n",
    "                tmp.append(result_metrics[obj + batch][i][j] / 200)\n",
    "            metric_data[obj + '_'+ batch +'_' + str(j)] = np.array(tmp)\n",
    "            metric[obj + batch + str(j)] = [np.mean(tmp), np.std(tmp)]\n",
    "            if len(tmp) !=10:\n",
    "                print(len(tmp))\n",
    "    # for batch in batchExperiments_all:\n",
    "    #     manipu_list = []\n",
    "    #     for i in range(len(result_metrics[obj + batch])):\n",
    "    #         tmp = result_metrics[obj + batch][i][3]\n",
    "    #         # len(tmp)\n",
    "    #         tmp = np.vstack(tmp)  # (200,4)\n",
    "    #         manipu_list.append(tmp)\n",
    "    #     manipu_list = np.vstack(manipu_list) # (200*10, 4)\n",
    "\n",
    "    #     manipu[obj + batch] = [np.mean(manipu_list, axis=0), np.std(manipu_list, axis=0)]\n",
    "        "
   ]
  },
  {
   "cell_type": "code",
   "execution_count": 32,
   "metadata": {},
   "outputs": [],
   "source": [
    "from scipy.io import savemat\n",
    "from numpy import *\n",
    "\n",
    "\n",
    "# print data\n",
    "savemat('metric_data.mat', metric_data, oned_as='row')"
   ]
  },
  {
   "cell_type": "code",
   "execution_count": 33,
   "metadata": {},
   "outputs": [],
   "source": [
    "savemat('metric_data_mean_std.mat', metric, oned_as='row')"
   ]
  },
  {
   "cell_type": "code",
   "execution_count": null,
   "metadata": {},
   "outputs": [],
   "source": [
    "import matplotlib.ticker as mtick\n",
    "from statsmodels.formula.api import ols\n",
    "from statsmodels.stats.anova import anova_lm\n",
    "\n"
   ]
  },
  {
   "cell_type": "code",
   "execution_count": null,
   "metadata": {},
   "outputs": [],
   "source": [
    "import statsmodels.api as sm\n",
    "from statsmodels.formula.api import ols"
   ]
  },
  {
   "cell_type": "code",
   "execution_count": null,
   "metadata": {},
   "outputs": [],
   "source": [
    "result_metrics[obj + batch][0]"
   ]
  },
  {
   "cell_type": "code",
   "execution_count": null,
   "metadata": {},
   "outputs": [],
   "source": [
    "result_metrics[obj + batch][i]"
   ]
  },
  {
   "cell_type": "code",
   "execution_count": null,
   "metadata": {},
   "outputs": [],
   "source": [
    "result_metrics[obj + batch][i][3]"
   ]
  },
  {
   "cell_type": "code",
   "execution_count": 15,
   "metadata": {},
   "outputs": [
    {
     "ename": "TypeError",
     "evalue": "list indices must be integers or slices, not list",
     "output_type": "error",
     "traceback": [
      "\u001b[0;31m---------------------------------------------------------------------------\u001b[0m",
      "\u001b[0;31mTypeError\u001b[0m                                 Traceback (most recent call last)",
      "\u001b[0;32m/tmp/ipykernel_19288/1772697257.py\u001b[0m in \u001b[0;36m<module>\u001b[0;34m\u001b[0m\n\u001b[0;32m----> 1\u001b[0;31m \u001b[0mobjectNames\u001b[0m\u001b[0;34m[\u001b[0m\u001b[0;34m[\u001b[0m\u001b[0;36m0\u001b[0m\u001b[0;34m,\u001b[0m\u001b[0;36m2\u001b[0m\u001b[0;34m,\u001b[0m\u001b[0;36m3\u001b[0m\u001b[0;34m]\u001b[0m\u001b[0;34m]\u001b[0m\u001b[0;34m\u001b[0m\u001b[0;34m\u001b[0m\u001b[0m\n\u001b[0m",
      "\u001b[0;31mTypeError\u001b[0m: list indices must be integers or slices, not list"
     ]
    }
   ],
   "source": []
  },
  {
   "cell_type": "code",
   "execution_count": 9,
   "metadata": {},
   "outputs": [
    {
     "name": "stderr",
     "output_type": "stream",
     "text": [
      "/home/xiao/miniconda3/envs/stock/lib/python3.7/site-packages/ipykernel_launcher.py:55: UserWarning: FixedFormatter should only be used together with FixedLocator\n",
      "/home/xiao/miniconda3/envs/stock/lib/python3.7/site-packages/ipykernel_launcher.py:55: UserWarning: FixedFormatter should only be used together with FixedLocator\n",
      "/home/xiao/miniconda3/envs/stock/lib/python3.7/site-packages/ipykernel_launcher.py:55: UserWarning: FixedFormatter should only be used together with FixedLocator\n"
     ]
    },
    {
     "data": {
      "image/png": "[encoded data removed]",
      "text/plain": [
       "<Figure size 354.331x141.732 with 1 Axes>"
      ]
     },
     "metadata": {},
     "output_type": "display_data"
    },
    {
     "data": {
      "image/png": "[encoded data removed]",
      "text/plain": [
       "<Figure size 354.331x141.732 with 1 Axes>"
      ]
     },
     "metadata": {},
     "output_type": "display_data"
    },
    {
     "data": {
      "image/png": "[encoded data removed]",
      "text/plain": [
       "<Figure size 354.331x141.732 with 1 Axes>"
      ]
     },
     "metadata": {},
     "output_type": "display_data"
    }
   ],
   "source": [
    "\n",
    "\n",
    "fig_width = 90/25.4   # mm to inch\n",
    "plt.rcParams[\"font.family\"] = \"Times New Roman\"\n",
    "plt.rcParams[\"font.size\"] = \"8\"\n",
    "\n",
    "x = np.arange(6)  # the label locations\n",
    "width = 0.6  # the width of the bars\n",
    "interval = 3\n",
    "labels = ['Palm \\npenetration', 'Fingertips\\n penetration', 'Fingertips \\n losing contact']\n",
    "colors = np.array([[213,94,0],[204,121,167], [0,114,178], [0,158,115]])/255.\n",
    "batchExperiments_all = ['00','01', '10', '11']\n",
    "batch2num = {'00':'I', '01':'II', '10':'III', '11':'IV'}\n",
    "\n",
    "\n",
    "for obj in [objectNames[i] for i in [0,2,3]]:\n",
    "    \n",
    "    fig, ax = plt.subplots(ncols=1, figsize=(fig_width, fig_width *2/5))\n",
    "    first = True\n",
    "    color_bar = [2, 5,'k']\n",
    "    \n",
    "    for i in range(3): # 3 metrics\n",
    "        for j, batch in enumerate(batchExperiments_all):\n",
    "            if first:\n",
    "                rects1 = ax.bar( width/2 + i * interval + j* width, metric[obj + batch + str(i)][0], width, label=batch2num[batch],color=colors[j], zorder=10)\n",
    "            else:\n",
    "                rects1 = ax.bar( width/2 + i * interval + j* width, metric[obj + batch + str(i)][0], width,color=colors[j], zorder=10)\n",
    "            ax.errorbar( width/2 + i * interval + j* width, metric[obj + batch + str(i)][0], yerr=metric[obj + batch + str(i)][1], linewidth=color_bar[0], capsize=color_bar[1],ecolor=color_bar[2], zorder=20, elinewidth=1.3)\n",
    "        first = False\n",
    "    # first = True\n",
    "    # for i in range(4):\n",
    "    #     for j, batch in enumerate(batchExperiments_all):\n",
    "    #         if first:\n",
    "    #             rects1 = ax[1].bar( width/2 + i * interval + j* width, manipu[obj + batch][0][i], width, label=batch, color=colors[j], zorder=10)\n",
    "    #         else:\n",
    "    #             rects1 = ax[1].bar( width/2 + i * interval + j* width, manipu[obj + batch][0][i], width,color=colors[j], zorder=10)\n",
    "\n",
    "    #         ax[1].errorbar( width/2 + i * interval + j* width, manipu[obj + batch][0][i], yerr=manipu[obj + batch][1][i], linewidth=color_bar[0], capsize=color_bar[1],ecolor=color_bar[2], zorder=20)\n",
    "\n",
    "\n",
    "\n",
    "    ax.set_xticks(np.arange(3) * interval + width*2)\n",
    "    ax.set_xticklabels(labels)\n",
    "    ax.set_ylabel('Rate')\n",
    "    ax.legend()\n",
    "    if obj=='finger_tip':\n",
    "        obj = 'convex object'\n",
    "    elif obj=='apc_2x2':\n",
    "        obj = 'bottle'\n",
    "    else:\n",
    "        pass\n",
    "    # ax.set_title('Exploration of the ' + obj)\n",
    "    ax.set_ylim((0, None))\n",
    "\n",
    "    # ax.yaxis.set_major_formatter(mtick.PercentFormatter())\n",
    "    vals = ax.get_yticks()\n",
    "    ax.set_yticklabels(['{:,.0%}'.format(x) for x in vals])\n",
    "\n",
    "\n",
    "    # ax[1].set_xticks(np.arange(4) * interval + width)\n",
    "    # ax[1].set_xticklabels(['Thumb', 'Index', 'Middle', 'Ring'])\n",
    "    # ax[1].ticklabel_format(axis='y', style='sci',scilimits=(0,0))\n",
    "    # ax[1].set_title('Manipulibility index - ' + obj)\n",
    "    # # ax[1].legend()\n",
    "\n",
    "\n",
    "    # fig.savefig( obj +'.jpg',format='jpg',ppi=1200,bbox_inches='tight',  pad_inches=0.0)\n",
    "    fig.savefig( obj +'.pdf',format='pdf',bbox_inches='tight',  pad_inches=0.0)\n"
   ]
  },
  {
   "cell_type": "code",
   "execution_count": 37,
   "metadata": {},
   "outputs": [
    {
     "name": "stderr",
     "output_type": "stream",
     "text": [
      "/home/xiao/miniconda3/envs/stock/lib/python3.7/site-packages/ipykernel_launcher.py:67: UserWarning: FixedFormatter should only be used together with FixedLocator\n",
      "/home/xiao/miniconda3/envs/stock/lib/python3.7/site-packages/ipykernel_launcher.py:67: UserWarning: FixedFormatter should only be used together with FixedLocator\n"
     ]
    },
    {
     "data": {
      "image/png": "[encoded data removed]",
      "text/plain": [
       "<Figure size 354.331x141.732 with 1 Axes>"
      ]
     },
     "metadata": {},
     "output_type": "display_data"
    },
    {
     "data": {
      "image/png": "[encoded data removed]",
      "text/plain": [
       "<Figure size 354.331x141.732 with 1 Axes>"
      ]
     },
     "metadata": {},
     "output_type": "display_data"
    }
   ],
   "source": [
    "\n",
    "\n",
    "fig_width = 90/25.4   # mm to inch\n",
    "plt.rcParams[\"font.family\"] = \"Times New Roman\"\n",
    "plt.rcParams[\"font.size\"] = \"8\"\n",
    "\n",
    "x = np.arange(6)  # the label locations\n",
    "width = 0.6  # the width of the bars\n",
    "interval = 3\n",
    "labels = ['Palm \\npenetration', 'Fingertips\\n penetration', 'Fingertips \\n losing contact']\n",
    "labels = ['Convex pill', 'Bottle', 'Bunny']\n",
    "colors = np.array([[213,94,0],[204,121,167], [0,114,178], [240,228,66]])/255.\n",
    "batchExperiments_all = ['00','01', '10', '11']\n",
    "batch2num = {'00':'I', '01':'II', '10':'III', '11':'IV'}\n",
    "y_labels = ['Unwanted palm contact', '', 'Fingertips losing contact']\n",
    "for m in [0,2]:\n",
    "    fig, ax = plt.subplots(ncols=1, figsize=(fig_width, fig_width *2/5))\n",
    "    first = True\n",
    "    color_bar = [2, 5,'k']\n",
    "    for i, obj in enumerate([objectNames[i] for i in [0,2,3]]):        \n",
    "        for j, batch in enumerate(batchExperiments_all):\n",
    "            if first:\n",
    "                rects1 = ax.bar( width/2 + i * interval + j* width, metric[obj + batch + str(m)][0], width, label=batch2num[batch],color=colors[j], zorder=10)\n",
    "                \n",
    "            else:\n",
    "                rects1 = ax.bar( width/2 + i * interval + j* width, metric[obj + batch + str(m)][0], width,color=colors[j], zorder=10)\n",
    "            ax.errorbar( width/2 + i * interval + j* width, metric[obj + batch + str(m)][0], yerr=metric[obj + batch + str(m)][1], linewidth=color_bar[0], capsize=color_bar[1],ecolor=color_bar[2], zorder=20, elinewidth=1.3)\n",
    "        first=False\n",
    "# for obj in [objectNames[i] for i in [0,2,3]]:\n",
    "    \n",
    "    \n",
    "    \n",
    "#     for i in range(3): # 3 metrics\n",
    "#         for j, batch in enumerate(batchExperiments_all):\n",
    "#             if first:\n",
    "#                 rects1 = ax.bar( width/2 + i * interval + j* width, metric[obj + batch + str(i)][0], width, label=batch2num[batch],color=colors[j], zorder=10)\n",
    "#             else:\n",
    "#                 rects1 = ax.bar( width/2 + i * interval + j* width, metric[obj + batch + str(i)][0], width,color=colors[j], zorder=10)\n",
    "#             ax.errorbar( width/2 + i * interval + j* width, metric[obj + batch + str(i)][0], yerr=metric[obj + batch + str(i)][1], linewidth=color_bar[0], capsize=color_bar[1],ecolor=color_bar[2], zorder=20, elinewidth=1.3)\n",
    "#         first = False\n",
    "    # first = True\n",
    "    # for i in range(4):\n",
    "    #     for j, batch in enumerate(batchExperiments_all):\n",
    "    #         if first:\n",
    "    #             rects1 = ax[1].bar( width/2 + i * interval + j* width, manipu[obj + batch][0][i], width, label=batch, color=colors[j], zorder=10)\n",
    "    #         else:\n",
    "    #             rects1 = ax[1].bar( width/2 + i * interval + j* width, manipu[obj + batch][0][i], width,color=colors[j], zorder=10)\n",
    "\n",
    "    #         ax[1].errorbar( width/2 + i * interval + j* width, manipu[obj + batch][0][i], yerr=manipu[obj + batch][1][i], linewidth=color_bar[0], capsize=color_bar[1],ecolor=color_bar[2], zorder=20)\n",
    "\n",
    "\n",
    "\n",
    "    ax.set_xticks(np.arange(3) * interval + width*2)\n",
    "    ax.set_xticklabels(labels)\n",
    "    ax.set_ylabel(y_labels[m])\n",
    "    ax.set_ylabel('Rate')\n",
    "    ax.legend()\n",
    "    if obj=='finger_tip':\n",
    "        obj = 'convex object'\n",
    "    elif obj=='apc_2x2':\n",
    "        obj = 'bottle'\n",
    "    else:\n",
    "        pass\n",
    "    # ax.set_title('Exploration of the ' + obj)\n",
    "    ax.set_ylim((0, None))\n",
    "\n",
    "    # ax.yaxis.set_major_formatter(mtick.PercentFormatter())\n",
    "    vals = ax.get_yticks()\n",
    "    ax.set_yticklabels(['{:,.0%}'.format(x) for x in vals])\n",
    "\n",
    "\n",
    "    # ax[1].set_xticks(np.arange(4) * interval + width)\n",
    "    # ax[1].set_xticklabels(['Thumb', 'Index', 'Middle', 'Ring'])\n",
    "    # ax[1].ticklabel_format(axis='y', style='sci',scilimits=(0,0))\n",
    "    # ax[1].set_title('Manipulibility index - ' + obj)\n",
    "    # # ax[1].legend()\n",
    "    if m ==0:\n",
    "        plt.legend(loc=(0.5,0.38))\n",
    "    else:\n",
    "        plt.legend(loc=(0.1,0.38))\n",
    "\n",
    "    # fig.savefig( obj +'.jpg',format='jpg',ppi=1200,bbox_inches='tight',  pad_inches=0.0)\n",
    "    fig.savefig( y_labels[m] +'.pdf',format='pdf',bbox_inches='tight',  pad_inches=0.0)\n"
   ]
  },
  {
   "cell_type": "code",
   "execution_count": 20,
   "metadata": {},
   "outputs": [
    {
     "ename": "NameError",
     "evalue": "name 'rcParams' is not defined",
     "output_type": "error",
     "traceback": [
      "\u001b[0;31m---------------------------------------------------------------------------\u001b[0m",
      "\u001b[0;31mNameError\u001b[0m                                 Traceback (most recent call last)",
      "\u001b[0;32m/tmp/ipykernel_4167/3663935765.py\u001b[0m in \u001b[0;36m<module>\u001b[0;34m\u001b[0m\n\u001b[0;32m----> 1\u001b[0;31m \u001b[0mrcParams\u001b[0m\u001b[0;34m[\u001b[0m\u001b[0;34m\"legend.loc\"\u001b[0m\u001b[0;34m]\u001b[0m\u001b[0;34m\u001b[0m\u001b[0;34m\u001b[0m\u001b[0m\n\u001b[0m",
      "\u001b[0;31mNameError\u001b[0m: name 'rcParams' is not defined"
     ]
    }
   ],
   "source": [
    "rcParams[\"legend.loc\"]"
   ]
  },
  {
   "cell_type": "code",
   "execution_count": null,
   "metadata": {},
   "outputs": [],
   "source": [
    "metric[obj + batch + str(i)][0]"
   ]
  },
  {
   "cell_type": "code",
   "execution_count": null,
   "metadata": {},
   "outputs": [],
   "source": [
    "labels = ['s'+str(i) for i in range(1,11)]\n",
    "labels = reversed([\n",
    "                    [350,175,90],\n",
    "                    [300,150,75],\n",
    "                    [250, 125, 65],\n",
    "                    [200,100,50],\n",
    "                    [180,90,45],\n",
    "                    [150,75,40],\n",
    "                    [130,65,35],\n",
    "                    [100,50,25],\n",
    "                    [80,40,20],\n",
    "                    [50,25,15]\n",
    "                    ])\n",
    "x = np.arange(6)  # the label locations\n",
    "width = 0.6  # the width of the bars\n",
    "fig, ax = plt.subplots(figsize=(20, 6))\n",
    "interval = 6\n",
    "train_color = np.array([255, 190,ax.set_yticklabels(['{:,.2%}'.format(x) for x in vals])\n",
    "\n",
    "first = True\n",
    "for i in reversed(range(10)):ax.set_yticklabels(['{:,.2%}'.format(x) for x in vals])\n",
    "\n",
    "    else:\n",
    "        rects1 = ax.bar( width/2 + (9-i) * interval, data1[i, train[0]], width, color=train_color,zorder=10)\n",
    "        rects2 = ax.bar(width/2*3 +  (9-i) * interval, data1[i, test[0]], width,  color=test_color,zorder=10)\n",
    "    ax.errorbar(width/2 + (9-i) * interval, data1[i, train[0]], yerr=data1[i, train[0]+1],linewidth=color_bar[0], capsize=color_bar[1],ecolor=color_bar[2],zorder=20)\n",
    "    ax.errorbar(width/2*3 +  (9-i) * interval, data1[i, test[0]], yerr=data1[i, test[0]+1],linewidth=color_bar[0], capsize=color_bar[1],ecolor=color_bar[2],zorder=20)\n",
    "    rects1 = ax.bar( width/2 *6 + (9-i) * interval, data1[i+10, train[0]], width, color=train_color,zorder=10)\n",
    "    rects2 = ax.bar(width/2 *8 +  (9-i) * interval, data1[i+10, test[0]], width, color=test_color,zorder=10)\n",
    "    ax.errorbar(width/2 *6 + (9-i) * interval, data1[i+10, train[0]], yerr= data1[i+10, train[0]+1],linewidth=color_bar[0], capsize=color_bar[1],ecolor=color_bar[2],zorder=20)\n",
    "    ax.errorbar(width/2 *8 +  (9-i) * interval, data1[i+10, test[0]], yerr= data1[i+10, test[0]+1],linewidth=color_bar[0], capsize=color_bar[1],ecolor=color_bar[2],zorder=20)\n",
    "    rects1 = ax.bar( width/2 *11 + (9-i) * interval, data1[i+20, train[0]], width, color=train_color,zorder=10)\n",
    "    rects2 = ax.bar(width/2 *13 +  (9-i) * interval, data1[i+20, test[0]], width,  color=test_color,zorder=10)\n",
    "    ax.errorbar( width/2 *11 + (9-i) * interval, data1[i+20, train[0]], yerr= data1[i+20, train[0]+1],linewidth=color_bar[0], capsize=color_bar[1],ecolor=color_bar[2],zorder=20)\n",
    "    ax.errorbar( width/2 *13 +  (9-i) * interval, data1[i+20, test[0]], yerr= data1[i+20, test[0]+1],linewidth=color_bar[0], capsize=color_bar[1],ecolor=color_bar[2],zorder=20)\n",
    "ax.grid(zorder=0)\n",
    "ax.set_ylim((0.8,1))\n",
    "ax.set_xticks(np.arange(10) * interval + interval/2 - width/2*3)\n",
    "ax.set_xticklabels(labels)\n",
    "ax.legend()\n",
    "ax.set_xlabel('NN structure')\n",
    "ax.set_ylabel('Collision accuracy')\n",
    "fig.savefig('figures/CV_different_input_acc.png',format='png',bbox_inches='tight',  pad_inches=0.0,dpi=300)"
   ]
  },
  {
   "cell_type": "code",
   "execution_count": null,
   "metadata": {},
   "outputs": [],
   "source": [
    "\n",
    "# poses, _ = hand_ik.forward_kine(qh)"
   ]
  },
  {
   "cell_type": "code",
   "execution_count": null,
   "metadata": {},
   "outputs": [],
   "source": [
    "results['finger_tip00'][0]"
   ]
  },
  {
   "cell_type": "markdown",
   "metadata": {},
   "source": []
  },
  {
   "cell_type": "markdown",
   "metadata": {},
   "source": []
  },
  {
   "cell_type": "code",
   "execution_count": null,
   "metadata": {},
   "outputs": [],
   "source": [
    "\n",
    "\n",
    "\n",
    "\n",
    "\n"
   ]
  },
  {
   "cell_type": "code",
   "execution_count": null,
   "metadata": {},
   "outputs": [],
   "source": []
  }
 ],
 "metadata": {
  "interpreter": {
   "hash": "0be4c49dc0b3c4ec0e346165273f694f8647785809d93c72c1c4b1eba05a64aa"
  },
  "kernelspec": {
   "display_name": "Python 3 (ipykernel)",
   "language": "python",
   "name": "python3"
  },
  "language_info": {
   "codemirror_mode": {
    "name": "ipython",
    "version": 3
   },
   "file_extension": ".py",
   "mimetype": "text/x-python",
   "name": "python",
   "nbconvert_exporter": "python",
   "pygments_lexer": "ipython3",
   "version": "3.7.13"
  }
 },
 "nbformat": 4,
 "nbformat_minor": 2
}
